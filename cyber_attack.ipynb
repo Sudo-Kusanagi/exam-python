{
  "nbformat": 4,
  "nbformat_minor": 0,
  "metadata": {
    "colab": {
      "provenance": [],
      "authorship_tag": "ABX9TyNuVWJu75OmyNruF2hoLu+B",
      "include_colab_link": true
    },
    "kernelspec": {
      "name": "ir",
      "display_name": "R"
    },
    "language_info": {
      "name": "R"
    }
  },
  "cells": [
    {
      "cell_type": "markdown",
      "metadata": {
        "id": "view-in-github",
        "colab_type": "text"
      },
      "source": [
        "<a href=\"https://colab.research.google.com/github/Sudo-Kusanagi/exam-python/blob/master/cyber_attack.ipynb\" target=\"_parent\"><img src=\"https://colab.research.google.com/assets/colab-badge.svg\" alt=\"Open In Colab\"/></a>"
      ]
    },
    {
      "cell_type": "code",
      "execution_count": 2,
      "metadata": {
        "colab": {
          "base_uri": "https://localhost:8080/",
          "height": 286
        },
        "id": "dbrc6isM9zHS",
        "outputId": "2eaadb77-1037-4849-bd34-c3442ce407ae"
      },
      "outputs": [
        {
          "output_type": "display_data",
          "data": {
            "text/html": [
              "<table class=\"dataframe\">\n",
              "<caption>A data.frame: 6 × 7</caption>\n",
              "<thead>\n",
              "\t<tr><th></th><th scope=col>Country</th><th scope=col>Cyber Attacks</th><th scope=col>Phishing</th><th scope=col>Ransomware</th><th scope=col>DDoS</th><th scope=col>Malware</th><th scope=col>Loss in Million</th></tr>\n",
              "\t<tr><th></th><th scope=col>&lt;chr&gt;</th><th scope=col>&lt;dbl&gt;</th><th scope=col>&lt;dbl&gt;</th><th scope=col>&lt;dbl&gt;</th><th scope=col>&lt;dbl&gt;</th><th scope=col>&lt;dbl&gt;</th><th scope=col>&lt;dbl&gt;</th></tr>\n",
              "</thead>\n",
              "<tbody>\n",
              "\t<tr><th scope=row>1</th><td>USA    </td><td>402</td><td>  5</td><td>191</td><td> 87</td><td>117</td><td>22.47</td></tr>\n",
              "\t<tr><th scope=row>2</th><td>India  </td><td>648</td><td>  2</td><td>409</td><td>208</td><td> 27</td><td>30.80</td></tr>\n",
              "\t<tr><th scope=row>3</th><td>Russia </td><td>570</td><td> 75</td><td> 76</td><td>136</td><td>280</td><td>31.87</td></tr>\n",
              "\t<tr><th scope=row>4</th><td>China  </td><td>406</td><td>114</td><td> 69</td><td>191</td><td> 30</td><td>17.39</td></tr>\n",
              "\t<tr><th scope=row>5</th><td>Germany</td><td>371</td><td> 43</td><td> 57</td><td> 76</td><td>193</td><td>48.78</td></tr>\n",
              "\t<tr><th scope=row>6</th><td>UK     </td><td>488</td><td> 57</td><td>186</td><td>231</td><td> 12</td><td>41.01</td></tr>\n",
              "</tbody>\n",
              "</table>\n"
            ],
            "text/markdown": "\nA data.frame: 6 × 7\n\n| <!--/--> | Country &lt;chr&gt; | Cyber Attacks &lt;dbl&gt; | Phishing &lt;dbl&gt; | Ransomware &lt;dbl&gt; | DDoS &lt;dbl&gt; | Malware &lt;dbl&gt; | Loss in Million &lt;dbl&gt; |\n|---|---|---|---|---|---|---|---|\n| 1 | USA     | 402 |   5 | 191 |  87 | 117 | 22.47 |\n| 2 | India   | 648 |   2 | 409 | 208 |  27 | 30.80 |\n| 3 | Russia  | 570 |  75 |  76 | 136 | 280 | 31.87 |\n| 4 | China   | 406 | 114 |  69 | 191 |  30 | 17.39 |\n| 5 | Germany | 371 |  43 |  57 |  76 | 193 | 48.78 |\n| 6 | UK      | 488 |  57 | 186 | 231 |  12 | 41.01 |\n\n",
            "text/latex": "A data.frame: 6 × 7\n\\begin{tabular}{r|lllllll}\n  & Country & Cyber Attacks & Phishing & Ransomware & DDoS & Malware & Loss in Million\\\\\n  & <chr> & <dbl> & <dbl> & <dbl> & <dbl> & <dbl> & <dbl>\\\\\n\\hline\n\t1 & USA     & 402 &   5 & 191 &  87 & 117 & 22.47\\\\\n\t2 & India   & 648 &   2 & 409 & 208 &  27 & 30.80\\\\\n\t3 & Russia  & 570 &  75 &  76 & 136 & 280 & 31.87\\\\\n\t4 & China   & 406 & 114 &  69 & 191 &  30 & 17.39\\\\\n\t5 & Germany & 371 &  43 &  57 &  76 & 193 & 48.78\\\\\n\t6 & UK      & 488 &  57 & 186 & 231 &  12 & 41.01\\\\\n\\end{tabular}\n",
            "text/plain": [
              "  Country Cyber Attacks Phishing Ransomware DDoS Malware Loss in Million\n",
              "1 USA     402             5      191         87  117     22.47          \n",
              "2 India   648             2      409        208   27     30.80          \n",
              "3 Russia  570            75       76        136  280     31.87          \n",
              "4 China   406           114       69        191   30     17.39          \n",
              "5 Germany 371            43       57         76  193     48.78          \n",
              "6 UK      488            57      186        231   12     41.01          "
            ]
          },
          "metadata": {}
        }
      ],
      "source": [
        "# Membuat data frame dengan data yang kamu berikan\n",
        "cyber.x303 <- data.frame(\n",
        "  Country = c(\"USA\", \"India\", \"Russia\", \"China\", \"Germany\", \"UK\", \"France\", \"Japan\", \"Brazil\",\"Malaysia\"),\n",
        "  Cyber_Attacks = c(402, 648, 570, 406, 371, 488, 320, 402, 421,500),\n",
        "  Phishing = c(5, 2, 75, 114, 43, 57, 71, 246, 190,260),\n",
        "  Ransomware = c(191, 409, 76, 69, 57, 186, 14, 121, 95,134),\n",
        "  DDoS = c(87, 208, 136, 191, 76, 231, 5, 26, 21,34),\n",
        "  Malware = c(117, 27, 280, 30, 193, 12, 228, 7, 113,151),\n",
        "  Loss_in_Million = c(22.47, 30.80, 31.87, 17.39, 48.78, 41.01, 47.58, 45.79, 33.92,50.89)\n",
        ")\n",
        "\n",
        "colnames(cyber.x303) <- gsub(\"_\", \" \", colnames(cyber.x303))\n",
        "\n",
        "# Menampilkan data untuk memastikan sudah rapi\n",
        "head(cyber.x303)"
      ]
    }
  ]
}