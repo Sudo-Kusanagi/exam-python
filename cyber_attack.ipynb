{
  "nbformat": 4,
  "nbformat_minor": 0,
  "metadata": {
    "colab": {
      "provenance": [],
      "authorship_tag": "ABX9TyOiUPlzmm3f2Ka52GRdkMP1",
      "include_colab_link": true
    },
    "kernelspec": {
      "name": "ir",
      "display_name": "R"
    },
    "language_info": {
      "name": "R"
    }
  },
  "cells": [
    {
      "cell_type": "markdown",
      "metadata": {
        "id": "view-in-github",
        "colab_type": "text"
      },
      "source": [
        "<a href=\"https://colab.research.google.com/github/Sudo-Kusanagi/exam-python/blob/master/cyber_attack.ipynb\" target=\"_parent\"><img src=\"https://colab.research.google.com/assets/colab-badge.svg\" alt=\"Open In Colab\"/></a>"
      ]
    },
    {
      "cell_type": "code",
      "execution_count": 11,
      "metadata": {
        "colab": {
          "base_uri": "https://localhost:8080/",
          "height": 286
        },
        "id": "inAleLP-z9XN",
        "outputId": "4cae72c2-8be6-48be-ae31-22861dc7022d"
      },
      "outputs": [
        {
          "output_type": "display_data",
          "data": {
            "text/html": [
              "<table class=\"dataframe\">\n",
              "<caption>A data.frame: 6 × 6</caption>\n",
              "<thead>\n",
              "\t<tr><th></th><th scope=col>City</th><th scope=col>Attack Type</th><th scope=col>Financial Loss</th><th scope=col>Company Name</th><th scope=col>Source of Attack</th><th scope=col>Data Breach</th></tr>\n",
              "\t<tr><th></th><th scope=col>&lt;chr&gt;</th><th scope=col>&lt;chr&gt;</th><th scope=col>&lt;int&gt;</th><th scope=col>&lt;chr&gt;</th><th scope=col>&lt;chr&gt;</th><th scope=col>&lt;int&gt;</th></tr>\n",
              "</thead>\n",
              "<tbody>\n",
              "\t<tr><th scope=row>1</th><td>Atlanta  </td><td>Phishing     </td><td>253731</td><td>TextileTwist</td><td>External Hackers   </td><td>29649</td></tr>\n",
              "\t<tr><th scope=row>2</th><td>Austin   </td><td>SQL Injection</td><td>290626</td><td>Umbrella    </td><td>External Hackers   </td><td> 3472</td></tr>\n",
              "\t<tr><th scope=row>3</th><td>Baltimore</td><td>Spyware      </td><td>207420</td><td>TechCorp    </td><td>Script Kiddies     </td><td>11548</td></tr>\n",
              "\t<tr><th scope=row>4</th><td>Boston   </td><td>Ransomware   </td><td>925827</td><td>Gotham Bank </td><td>External Hackers   </td><td>19936</td></tr>\n",
              "\t<tr><th scope=row>5</th><td>Charlotte</td><td>Spyware      </td><td>326613</td><td>InfoLock    </td><td>Script Kiddies     </td><td>44800</td></tr>\n",
              "\t<tr><th scope=row>6</th><td>Chicago  </td><td>Malware      </td><td>444386</td><td>Umbrella    </td><td>Cybercriminal Group</td><td>43983</td></tr>\n",
              "</tbody>\n",
              "</table>\n"
            ],
            "text/markdown": "\nA data.frame: 6 × 6\n\n| <!--/--> | City &lt;chr&gt; | Attack Type &lt;chr&gt; | Financial Loss &lt;int&gt; | Company Name &lt;chr&gt; | Source of Attack &lt;chr&gt; | Data Breach &lt;int&gt; |\n|---|---|---|---|---|---|---|\n| 1 | Atlanta   | Phishing      | 253731 | TextileTwist | External Hackers    | 29649 |\n| 2 | Austin    | SQL Injection | 290626 | Umbrella     | External Hackers    |  3472 |\n| 3 | Baltimore | Spyware       | 207420 | TechCorp     | Script Kiddies      | 11548 |\n| 4 | Boston    | Ransomware    | 925827 | Gotham Bank  | External Hackers    | 19936 |\n| 5 | Charlotte | Spyware       | 326613 | InfoLock     | Script Kiddies      | 44800 |\n| 6 | Chicago   | Malware       | 444386 | Umbrella     | Cybercriminal Group | 43983 |\n\n",
            "text/latex": "A data.frame: 6 × 6\n\\begin{tabular}{r|llllll}\n  & City & Attack Type & Financial Loss & Company Name & Source of Attack & Data Breach\\\\\n  & <chr> & <chr> & <int> & <chr> & <chr> & <int>\\\\\n\\hline\n\t1 & Atlanta   & Phishing      & 253731 & TextileTwist & External Hackers    & 29649\\\\\n\t2 & Austin    & SQL Injection & 290626 & Umbrella     & External Hackers    &  3472\\\\\n\t3 & Baltimore & Spyware       & 207420 & TechCorp     & Script Kiddies      & 11548\\\\\n\t4 & Boston    & Ransomware    & 925827 & Gotham Bank  & External Hackers    & 19936\\\\\n\t5 & Charlotte & Spyware       & 326613 & InfoLock     & Script Kiddies      & 44800\\\\\n\t6 & Chicago   & Malware       & 444386 & Umbrella     & Cybercriminal Group & 43983\\\\\n\\end{tabular}\n",
            "text/plain": [
              "  City      Attack Type   Financial Loss Company Name Source of Attack   \n",
              "1 Atlanta   Phishing      253731         TextileTwist External Hackers   \n",
              "2 Austin    SQL Injection 290626         Umbrella     External Hackers   \n",
              "3 Baltimore Spyware       207420         TechCorp     Script Kiddies     \n",
              "4 Boston    Ransomware    925827         Gotham Bank  External Hackers   \n",
              "5 Charlotte Spyware       326613         InfoLock     Script Kiddies     \n",
              "6 Chicago   Malware       444386         Umbrella     Cybercriminal Group\n",
              "  Data Breach\n",
              "1 29649      \n",
              "2  3472      \n",
              "3 11548      \n",
              "4 19936      \n",
              "5 44800      \n",
              "6 43983      "
            ]
          },
          "metadata": {}
        }
      ],
      "source": [
        "cyber_attack <- data.frame(\n",
        "  City = c(\"Atlanta\", \"Austin\", \"Baltimore\", \"Boston\", \"Charlotte\", \"Chicago\", \"Cleveland\", \"Columbus\",\n",
        "           \"Dallas\", \"Denver\", \"Detroit\", \"El Paso\", \"Fort Worth\", \"Houston\", \"Indianapolis\",\n",
        "           \"Jacksonville\", \"Kansas City\", \"Las Vegas\", \"Los Angeles\", \"Louisville\", \"Memphis\",\n",
        "           \"Miami\", \"Milwaukee\", \"Nashville\", \"New York\", \"Oklahoma City\", \"Philadelphia\",\n",
        "           \"Phoenix\", \"San Antonio\", \"San Diego\"),\n",
        "  Attack_Type = sample(c(\"Ransomware\", \"Phishing\", \"DDoS\", \"SQL Injection\", \"Malware\", \"Man-in-the-Middle\",\n",
        "                         \"Brute Force\", \"Zero-Day Exploit\", \"Privilege Escalation\", \"Spyware\"), 30, replace = TRUE),\n",
        "  Financial_Loss = sample(100000:1000000, 30, replace = TRUE),\n",
        "  Company_Name = sample(c(\"TechCorp\", \"Vortico\", \"SecureLink\", \"NetWave\", \"Umbrella\",\n",
        "                          \"TextileTwist\", \"SecureVault\", \"Gotham Bank\", \"InfoLock\", \"CloudArmor\"), 30, replace = TRUE),\n",
        "  Source_of_Attack = sample(c(\"External Hackers\", \"Insider Threat\", \"Nation-State\", \"Cybercriminal Group\",\n",
        "                              \"Script Kiddies\"), 30, replace = TRUE),\n",
        "  Data_Breach = sample(1000:50000, 30, replace = TRUE)\n",
        ")\n",
        "\n",
        "colnames(cyber_attack) <- gsub(\"_\", \" \", colnames(cyber_attack))\n",
        "\n",
        "head(cyber_attack)"
      ]
    }
  ]
}